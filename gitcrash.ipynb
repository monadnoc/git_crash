{
 "cells": [
  {
   "cell_type": "markdown",
   "metadata": {
    "slideshow": {
     "slide_type": "slide"
    }
   },
   "source": [
    "<center> <h1>GitHub Crash Course</h1> </center>\n",
    "<center> <h2>16 Jan 2019</h2> </center>\n",
    "\n",
    "<center> <img src=\"images/what_is_a_git_hub.png\" alt=\"What is a git hub\" width=\"400\"/> </center>"
   ]
  },
  {
   "cell_type": "markdown",
   "metadata": {
    "slideshow": {
     "slide_type": "subslide"
    }
   },
   "source": [
    "### Technical Requirements\n",
    "Need to be able to run `git` commands from terminal:\n",
    "* usually pre-installed on Linux\n",
    "* for MacOS, get from [git-scm.com](https://git-scm.com/download/mac)\n",
    "* for Windows, need [git bash](https://git-scm.com/download/mac) (= `git` + terminal)"
   ]
  },
  {
   "cell_type": "markdown",
   "metadata": {
    "slideshow": {
     "slide_type": "subslide"
    }
   },
   "source": [
    "### Python packages used in this presentation\n",
    "* `RISE`\n",
    "* `jupyter-notebook`\n",
    "* `markdown`\n",
    "* `cookiecutter`\n",
    "* `pelican`"
   ]
  },
  {
   "cell_type": "markdown",
   "metadata": {
    "slideshow": {
     "slide_type": "slide"
    }
   },
   "source": [
    "## Contributing to a GitHub project from web + command line\n",
    "1. <Github.com> fork `<interesting>` repo\n",
    "\n",
    "2. ```bash\n",
    "git add upstream <URL of interesting repo (before fork)>```\n",
    "\n",
    "3. ```bash\n",
    "git checkout -b <branch name>```\n",
    "\n",
    "4. \\*Make changes*\n",
    "\n",
    "5. ```bash\n",
    "git add .```\n",
    "\n",
    "6. ```bash\n",
    "git commit -m <summary message (keep it short)>```\n",
    "\n",
    "7. ```bash\n",
    "git push origin <branch name>```\n",
    "\n",
    "8. <Github.com> submit pull request (**PR**)--*from your fork to the original repo*"
   ]
  },
  {
   "cell_type": "markdown",
   "metadata": {
    "slideshow": {
     "slide_type": "subslide"
    }
   },
   "source": [
    "## FuCk Add Commit Push (Repeat)\n",
    "Fork Upstream Checkout Add Commit Push"
   ]
  },
  {
   "cell_type": "markdown",
   "metadata": {
    "slideshow": {
     "slide_type": "slide"
    }
   },
   "source": [
    "## Contribute to Repo with GitHub Desktop GUI\n",
    "<center><img src=\"images/Homer-twiddle-thumb.gif\" alt=\"Twiddle...\" width=\"400\"/></center>"
   ]
  },
  {
   "cell_type": "markdown",
   "metadata": {
    "slideshow": {
     "slide_type": "slide"
    }
   },
   "source": [
    "## Create a repo from scratch and upload to GitHub from command line\n",
    "\n",
    "Create and enter empty folder, then\n",
    "```bash\n",
    "git init```\n",
    "Make changes\n",
    "```bash\n",
    "git add .```\n",
    "```bash\n",
    "git commit -m <message>```\n",
    "```bash\n",
    "git remote add origin <remote repository URL>```\n",
    "```bash\n",
    "git push origin master```"
   ]
  },
  {
   "cell_type": "markdown",
   "metadata": {
    "slideshow": {
     "slide_type": "subslide"
    }
   },
   "source": [
    "## Create a repo from scratch with GitHub Desktop GUI (or GitHub website)\n",
    "<center><img src=\"images/tenor.gif\" alt=\"Waiting...\"/></center>"
   ]
  },
  {
   "cell_type": "markdown",
   "metadata": {
    "slideshow": {
     "slide_type": "slide"
    }
   },
   "source": [
    "## Create repo from scratch with `cookiecutter`\n",
    "1. Search through cookiecutter templates either [on the main project](https://github.com/audreyr/cookiecutter#categories-of-cookiecutters) or via google search (e.g. 'cookiecutter machine learning image classification')\n",
    "2. Read the requirements.txt (or listed requirements in README) and build the correct virutal environment (e.g. Python 3.5, etc.)\n",
    "3. From command line `cookiecutter https://github.com/drivendata/cookiecutter-data-science`"
   ]
  },
  {
   "cell_type": "markdown",
   "metadata": {
    "slideshow": {
     "slide_type": "slide"
    }
   },
   "source": [
    "# Host a (static) webpage with GitHub: GitHub Pages\n",
    "[Hello World tutorial](https://pages.github.com/)"
   ]
  },
  {
   "cell_type": "markdown",
   "metadata": {
    "slideshow": {
     "slide_type": "subslide"
    }
   },
   "source": [
    "## [Pelican](http://docs.getpelican.com/en/stable/)\n",
    "### Install\n",
    "execute `conda install pelican Markdown`\n",
    "OR `pip install pelican Markdown` <br>"
   ]
  },
  {
   "cell_type": "markdown",
   "metadata": {
    "slideshow": {
     "slide_type": "subslide"
    }
   },
   "source": [
    "### Make a folder\n",
    "Good folder structure for new project\n",
    "```bash\n",
    "pelican/\n",
    "| - pelican-themes\n",
    "| - other-pelican-theme\n",
    "| - other-sites\n",
    "| - <username>.github.io```"
   ]
  },
  {
   "cell_type": "markdown",
   "metadata": {
    "slideshow": {
     "slide_type": "subslide"
    }
   },
   "source": [
    "### `pelican-quickstart`\n",
    "Dialogue Generates\n",
    "```bash\n",
    "    <username>.github.io/\n",
    "    | - content\n",
    "    | - output\n",
    "    | - pelicanconf.py\n",
    "    | - publishconf.py```"
   ]
  },
  {
   "cell_type": "markdown",
   "metadata": {
    "slideshow": {
     "slide_type": "subslide"
    }
   },
   "source": [
    "### Create human content\n",
    "RST seems most common <br>\n",
    "Markdown acceptable<br>\n",
    "* must have title line, can include date, and category<br>\n",
    "** Title: My First Review<br>\n",
    "** Date: 2010-12-03 10:20 <--Optional<br>\n",
    "** Category: Review <--Optional<br>\n",
    "* uses different syntax for code blocks<br>\n",
    "** `::python` ==> no line numbers<br>\n",
    "** `#!python` ==> line numbers"
   ]
  },
  {
   "cell_type": "markdown",
   "metadata": {
    "slideshow": {
     "slide_type": "subslide"
    }
   },
   "source": [
    "### Generate web content\n",
    "```bash\n",
    "pelican content \\\n",
    "--debug \\\n",
    "--autoreload \\\n",
    "--output output \\\n",
    "--settings pelcanconf.py```"
   ]
  },
  {
   "cell_type": "markdown",
   "metadata": {
    "slideshow": {
     "slide_type": "subslide"
    }
   },
   "source": [
    "### Serve web content\n",
    "\n",
    "```python\n",
    "python -m pelican.server```\n",
    "visit http://127.0.0.1:8000"
   ]
  },
  {
   "cell_type": "markdown",
   "metadata": {
    "slideshow": {
     "slide_type": "subslide"
    }
   },
   "source": [
    "### Publish web content\n",
    "```bash\n",
    "pelican content \\\n",
    "--output output \\\n",
    "--settings pelcanconf.py```"
   ]
  },
  {
   "cell_type": "markdown",
   "metadata": {
    "slideshow": {
     "slide_type": "subslide"
    }
   },
   "source": [
    "### Publish web content on Github\n",
    "From within < username >.github.io/ local folder<br>\n",
    "\n",
    "(If < username >.github.io repo not already cloned)\n",
    "```bash\n",
    "(git init) \n",
    "(git remote add origin https://github.com/<username>/<username>.github.io.git)\n",
    "git add .\n",
    "git commit -m <message>\n",
    "git push origin master --force```\n",
    "Version control on output is not necesarry (keep it on your source code)<br>\n",
    "This updates the `origin/master` branch, which will be the actual site when you go to <username>.github.io"
   ]
  },
  {
   "cell_type": "markdown",
   "metadata": {
    "slideshow": {
     "slide_type": "subslide"
    }
   },
   "source": [
    "### Publish source code on Github\n",
    "#### add `.gitignore`\n",
    "Tell git (and GitHub) to ignore the `output/` folder<br>\n",
    "--> put the text `output` in a new (or already-existent) .gitignore file<br>\n",
    "\n",
    "(If < username >.github.io repo not already cloned)\n",
    "```bash\n",
    "(git init)\n",
    "(git remote add origin https://github.com/<username>/<username>.github.io.git)\n",
    "git branch -m master source <--moves master branch to new branch 'source'\n",
    "git add . #This also adds .gitignore\n",
    "git commit -m <message>\n",
    "git push origin source\n",
    "```\n",
    "This creates the second branch `origin/source` that contains the source code"
   ]
  },
  {
   "cell_type": "markdown",
   "metadata": {
    "slideshow": {
     "slide_type": "subslide"
    }
   },
   "source": [
    "### Automating source / content update\n",
    "```bash\n",
    "python -m pelican content \\\n",
    "--output output \\\n",
    "--settings pelcanconf.py\n",
    "git add -A\n",
    "git commit -m \"Deploying changes to source branch\"\n",
    "git push origin source\n",
    "cd output\n",
    "git add -A\n",
    "git commit -m \"Deploying changes to master branch\"\n",
    "git push origin master```"
   ]
  },
  {
   "cell_type": "markdown",
   "metadata": {
    "slideshow": {
     "slide_type": "slide"
    }
   },
   "source": [
    "# Other Good Things from Github\n",
    "[\"How to automate publishing of new Pelican pages to GitHub pages via Travis-CI\"](https://iranzo.github.io/blog/2018/12/07/elegant-website-ci/)\n",
    "<img src=\"images/TravisCI-Mascot-1.png\" alt=\"Travis-CI...\" width=\"400\"/>"
   ]
  },
  {
   "cell_type": "markdown",
   "metadata": {
    "slideshow": {
     "slide_type": "subslide"
    }
   },
   "source": [
    "<center> <h1>Other Good Things from Github</h1> </center>"
   ]
  },
  {
   "cell_type": "markdown",
   "metadata": {
    "slideshow": {
     "slide_type": "-"
    }
   },
   "source": [
    "[Use a custom domain with Github Pages](https://help.github.com/articles/using-a-custom-domain-with-github-pages/)\n",
    "<center><img src=\"images/namecheap_offer-1.png\" alt=\"Namecheap...\" width=\"400\"/></center>"
   ]
  },
  {
   "cell_type": "markdown",
   "metadata": {
    "slideshow": {
     "slide_type": "subslide"
    }
   },
   "source": [
    "<center> <h1>Other Good Things from Github</h1> </center>"
   ]
  },
  {
   "cell_type": "markdown",
   "metadata": {
    "slideshow": {
     "slide_type": "subslide"
    }
   },
   "source": [
    "[GitHub Actions](https://github.com/features/actions/)\n",
    "<center><img src=\"images/githubact.jpg\" alt=\"GitHub Actions\" width=\"400\"/></center>"
   ]
  },
  {
   "cell_type": "markdown",
   "metadata": {
    "slideshow": {
     "slide_type": "subslide"
    }
   },
   "source": [
    "<center> <h1>All Good Things Come to an End</h1> </center>"
   ]
  }
 ],
 "metadata": {
  "celltoolbar": "Slideshow",
  "kernelspec": {
   "display_name": "Python 3",
   "language": "python",
   "name": "python3"
  }
 },
 "nbformat": 4,
 "nbformat_minor": 2
}
